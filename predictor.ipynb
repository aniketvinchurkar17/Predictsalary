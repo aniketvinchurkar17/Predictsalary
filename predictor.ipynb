{
 "cells": [
  {
   "cell_type": "code",
   "execution_count": 2,
   "metadata": {},
   "outputs": [],
   "source": [
    "import pandas as pd \n",
    "import numpy as np\n",
    "from sklearn.preprocessing import StandardScaler"
   ]
  },
  {
   "cell_type": "code",
   "execution_count": null,
   "metadata": {},
   "outputs": [],
   "source": [
    "#train + test dataset\n",
    "from google.colab import files\n",
    "uploaded = files.upload()"
   ]
  },
  {
   "cell_type": "code",
   "execution_count": null,
   "metadata": {},
   "outputs": [],
   "source": [
    "import io\n",
    "df = pd.read_csv(io.BytesIO(uploaded['training_data.csv']))\n",
    "df.head()"
   ]
  },
  {
   "cell_type": "code",
   "execution_count": null,
   "metadata": {},
   "outputs": [],
   "source": [
    "#removing unuseful columns\n",
    "Df = df[['JobCity', 'Gender', 'DOB', '10percentage',\n",
    "       '10board', '12graduation', '12percentage', '12board', 'CollegeID',\n",
    "       'CollegeTier', 'Degree', 'Specialization', 'collegeGPA',\n",
    "       'CollegeCityID', 'CollegeCityTier', 'CollegeState', 'GraduationYear',\n",
    "       'English', 'Logical', 'Quant', 'Domain', 'ComputerProgramming',\n",
    "       'ElectronicsAndSemicon', 'ComputerScience', 'MechanicalEngg',\n",
    "       'ElectricalEngg', 'TelecomEngg', 'CivilEngg', 'conscientiousness',\n",
    "       'agreeableness', 'extraversion', 'nueroticism', 'openess_to_experience',\n",
    "       'Salary']]\n",
    "Df.head()"
   ]
  },
  {
   "cell_type": "code",
   "execution_count": null,
   "metadata": {},
   "outputs": [],
   "source": [
    "#now we need to replace null values with mean for numeric and with mode for non-numeric \n",
    "#mean\n",
    "Df = Df.fillna( Df.mean())\n",
    "Df.head()"
   ]
  },
  {
   "cell_type": "code",
   "execution_count": null,
   "metadata": {},
   "outputs": [],
   "source": [
    "#mode\n",
    "for column in Df:\n",
    "  Df[column].fillna(Df[column].mode()[0],inplace = True)\n",
    "Df.head()"
   ]
  },
  {
   "cell_type": "code",
   "execution_count": null,
   "metadata": {},
   "outputs": [],
   "source": [
    "Df['10percentage'] = Df['10percentage'].astype('int')\n",
    "Df['12graduation'] = Df['12graduation'].astype('int')\n",
    "Df['collegeGPA'] = Df['collegeGPA'].astype('int') \n",
    "Df['CollegeCityID'] = Df['CollegeCityID'].astype('int')\n",
    "\n",
    "#new method of looping through certain columns\n",
    "for column in Df[['GraduationYear',\n",
    "       'English', 'Logical', 'Quant', 'Domain', 'ComputerProgramming',\n",
    "       'ElectronicsAndSemicon', 'ComputerScience', 'MechanicalEngg',\n",
    "       'ElectricalEngg', 'TelecomEngg', 'CivilEngg', 'conscientiousness',\n",
    "       'agreeableness', 'extraversion', 'nueroticism',\n",
    "       'openess_to_experience','12percentage', 'Salary']]:\n",
    "  Df[column] = Df[column].astype('int') \n",
    "Df.head()"
   ]
  },
  {
   "cell_type": "code",
   "execution_count": null,
   "metadata": {},
   "outputs": [],
   "source": [
    "#note this down\n",
    "Df = Df.replace({'JobCity': '-1'},\"Bangalore\")\n",
    "\n",
    "Df['JobCity']"
   ]
  },
  {
   "cell_type": "code",
   "execution_count": null,
   "metadata": {},
   "outputs": [],
   "source": [
    "Df['Specialization'].value_counts().sort_values(ascending = False).head(50)"
   ]
  },
  {
   "cell_type": "code",
   "execution_count": null,
   "metadata": {},
   "outputs": [],
   "source": [
    "#then one hot encoding but by method of noise reduction\n",
    "#get whole set of dummy variales for all categorical variables\n",
    "\n",
    "def one_hot_top_features(df, variable, top_x):\n",
    "\n",
    "  for label in top_x :\n",
    "    df[variable+'_'+label] = np.where(df[variable] == label,1,0)\n",
    "\n",
    "top_10 = [x for x in Df['JobCity'].value_counts().sort_values(ascending = False).head(10).index]\n",
    "one_hot_top_features(Df,'JobCity',top_10)\n",
    "Df.head()"
   ]
  },
  {
   "cell_type": "code",
   "execution_count": null,
   "metadata": {},
   "outputs": [],
   "source": [
    "top_7 = [x for x in Df['10board'].value_counts().sort_values(ascending = False).head(7).index]\n",
    "one_hot_top_features(Df,'10board',top_7)\n",
    "Df.head()"
   ]
  },
  {
   "cell_type": "code",
   "execution_count": null,
   "metadata": {},
   "outputs": [],
   "source": [
    "top_8 = [x for x in Df['12board'].value_counts().sort_values(ascending = False).head(8).index]\n",
    "one_hot_top_features(Df,'12board',top_8)\n",
    "Df.head()"
   ]
  },
  {
   "cell_type": "code",
   "execution_count": null,
   "metadata": {},
   "outputs": [],
   "source": [
    "top_2 = [x for x in Df['Gender'].value_counts().sort_values(ascending = False).head(2).index]\n",
    "one_hot_top_features(Df,'Gender',top_2)\n",
    "Df.head()"
   ]
  },
  {
   "cell_type": "code",
   "execution_count": null,
   "metadata": {},
   "outputs": [],
   "source": [
    "top_4 = [x for x in Df['Degree'].value_counts().sort_values(ascending = False).head(4).index]\n",
    "one_hot_top_features(Df,'Degree',top_4)\n",
    "Df.head()"
   ]
  },
  {
   "cell_type": "code",
   "execution_count": null,
   "metadata": {},
   "outputs": [],
   "source": [
    "top_10 = [x for x in Df['Specialization'].value_counts().sort_values(ascending = False).head(10).index]\n",
    "one_hot_top_features(Df,'Specialization',top_10)\n",
    "Df.head()\n"
   ]
  },
  {
   "cell_type": "code",
   "execution_count": null,
   "metadata": {},
   "outputs": [],
   "source": [
    "#dropping columns\n",
    "DF = Df.drop(['Gender','Specialization', 'Degree', 'CollegeState','JobCity', '10board', '12board', 'DOB'], axis = 1)\n",
    "DF.head()"
   ]
  },
  {
   "cell_type": "code",
   "execution_count": null,
   "metadata": {},
   "outputs": [],
   "source": [
    "DF.columns"
   ]
  },
  {
   "cell_type": "code",
   "execution_count": null,
   "metadata": {},
   "outputs": [],
   "source": [
    "X = np.asarray(DF[['10percentage', '12graduation', '12percentage', 'CollegeID',\n",
    "       'CollegeTier', 'collegeGPA', 'CollegeCityID', 'CollegeCityTier',\n",
    "       'GraduationYear', 'English', 'Logical', 'Quant', 'Domain',\n",
    "       'ComputerProgramming', 'ElectronicsAndSemicon', 'ComputerScience',\n",
    "       'MechanicalEngg', 'ElectricalEngg', 'TelecomEngg', 'CivilEngg',\n",
    "       'conscientiousness', 'agreeableness', 'extraversion', 'nueroticism',\n",
    "       'openess_to_experience', 'JobCity_Bangalore', 'JobCity_Noida',\n",
    "       'JobCity_Hyderabad', 'JobCity_Pune', 'JobCity_Chennai',\n",
    "       'JobCity_Gurgaon', 'JobCity_New Delhi', 'JobCity_Mumbai',\n",
    "       'JobCity_Kolkata', 'JobCity_Jaipur', '10board_cbse',\n",
    "       '10board_state board', '10board_0', '10board_icse', '10board_ssc',\n",
    "       '10board_up board', '10board_matriculation', '12board_cbse',\n",
    "       '12board_state board', '12board_0', '12board_icse', '12board_up board',\n",
    "       '12board_isc', '12board_board of intermediate',\n",
    "       '12board_board of intermediate education', 'Gender_m', 'Gender_f',\n",
    "       'Degree_B.Tech/B.E.', 'Degree_MCA', 'Degree_M.Tech./M.E.',\n",
    "       'Degree_M.Sc. (Tech.)',\n",
    "       'Specialization_electronics and communication engineering',\n",
    "       'Specialization_computer science & engineering',\n",
    "       'Specialization_information technology',\n",
    "       'Specialization_computer engineering',\n",
    "       'Specialization_computer application',\n",
    "       'Specialization_electronics and electrical engineering',\n",
    "       'Specialization_mechanical engineering',\n",
    "       'Specialization_electronics & telecommunications',\n",
    "       'Specialization_electrical engineering',\n",
    "       'Specialization_civil engineering']])\n",
    "X[0:5]"
   ]
  },
  {
   "cell_type": "code",
   "execution_count": null,
   "metadata": {},
   "outputs": [],
   "source": [
    "\n",
    "from sklearn import preprocessing\n",
    "X = preprocessing.StandardScaler().fit(X).transform(X)\n",
    "X[0:5]"
   ]
  },
  {
   "cell_type": "code",
   "execution_count": null,
   "metadata": {},
   "outputs": [],
   "source": [
    "Y = np.asarray(DF['Salary'])\n",
    "Y[0:5]"
   ]
  },
  {
   "cell_type": "code",
   "execution_count": null,
   "metadata": {},
   "outputs": [],
   "source": [
    "from sklearn.model_selection import train_test_split\n",
    "X_train, X_test, y_train, y_test = train_test_split( X, Y, test_size=0.2, random_state=4)\n",
    "print ('Train set:', X_train.shape,  y_train.shape)\n",
    "print ('Test set:', X_test.shape,  y_test.shape)"
   ]
  },
  {
   "cell_type": "code",
   "execution_count": null,
   "metadata": {},
   "outputs": [],
   "source": [
    "#model training\n",
    "from sklearn import linear_model\n",
    "from sklearn import metrics\n",
    "from sklearn.metrics import r2_score\n",
    "regr  = linear_model.LinearRegression()\n",
    "regr.fit( X_train, y_train )\n",
    "y_hat= regr.predict(X_test)\n",
    "\n",
    "\n",
    "\n",
    "print(\"Residual sum of squares: %.2f\"\n",
    "      % np.mean((y_hat - y_test) ** 2))\n",
    "\n",
    "# Explained variance score: 1 is perfect prediction\n",
    "print('Variance score: %.2f' % regr.score(X_test, y_test ))\n",
    "\n",
    "acc = r2_score(y_test,y_hat)\n",
    "print(acc)"
   ]
  },
  {
   "cell_type": "code",
   "execution_count": null,
   "metadata": {},
   "outputs": [],
   "source": [
    "rss=((y_test-y_hat)**2).sum()\n",
    "mse=np.mean((y_test-y_hat)**2)\n",
    "print(\"Final rmse value is =\",np.sqrt(np.mean((y_test-y_hat)**2)))"
   ]
  },
  {
   "cell_type": "code",
   "execution_count": null,
   "metadata": {},
   "outputs": [],
   "source": [
    "from sklearn.ensemble import RandomForestClassifier\n",
    "classifier = RandomForestClassifier(n_estimators=50)\n",
    "classifier.fit(X_train, y_train)"
   ]
  },
  {
   "cell_type": "code",
   "execution_count": null,
   "metadata": {},
   "outputs": [],
   "source": [
    "\n",
    "y_predRF = classifier.predict(X_test)"
   ]
  },
  {
   "cell_type": "code",
   "execution_count": null,
   "metadata": {},
   "outputs": [],
   "source": [
    "\n",
    "from sklearn.metrics import classification_report, confusion_matrix, accuracy_score\n",
    "result = confusion_matrix(y_test, y_predRF)\n",
    "print(\"Confusion Matrix:\")\n",
    "print(result)\n",
    "result1 = classification_report(y_test, y_predRF)\n",
    "print(\"Classification Report:\",)\n",
    "print (result1)\n",
    "result2 = accuracy_score(y_test,y_predRF)\n",
    "print(\"Accuracy:\",result2)"
   ]
  }
 ],
 "metadata": {
  "kernelspec": {
   "display_name": "Python 3",
   "language": "python",
   "name": "python3"
  },
  "language_info": {
   "codemirror_mode": {
    "name": "ipython",
    "version": 3
   },
   "file_extension": ".py",
   "mimetype": "text/x-python",
   "name": "python",
   "nbconvert_exporter": "python",
   "pygments_lexer": "ipython3",
   "version": "3.7.3"
  }
 },
 "nbformat": 4,
 "nbformat_minor": 2
}
